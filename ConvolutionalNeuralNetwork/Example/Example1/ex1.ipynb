{
 "cells": [
  {
   "cell_type": "code",
   "execution_count": 3,
   "metadata": {},
   "outputs": [],
   "source": [
    "# 1. Thêm các thư viện cần thiết\n",
    "import numpy as np\n",
    "import matplotlib.pyplot as plt\n",
    "from keras.models import Sequential\n",
    "from keras.layers import Dense, Dropout, Activation, Flatten\n",
    "from keras.layers import Conv2D, MaxPooling2D\n",
    "from keras.utils import to_categorical\n",
    "from keras.datasets import mnist\n"
   ]
  },
  {
   "cell_type": "code",
   "execution_count": 4,
   "metadata": {},
   "outputs": [],
   "source": [
    "# 2. Load dữ liệu MNIST\n",
    "(X_train, y_train), (X_test, y_test) = mnist.load_data()\n",
    "X_val, y_val = X_train[50000:60000,:], y_train[50000:60000]\n",
    "X_train, y_train = X_train[:50000,:], y_train[:50000]\n"
   ]
  },
  {
   "cell_type": "code",
   "execution_count": 5,
   "metadata": {},
   "outputs": [
    {
     "name": "stdout",
     "output_type": "stream",
     "text": [
      "(50000, 28, 28)\n"
     ]
    }
   ],
   "source": [
    "print(X_train.shape)"
   ]
  },
  {
   "cell_type": "code",
   "execution_count": 6,
   "metadata": {},
   "outputs": [],
   "source": [
    "# 3. Reshape lại dữ liệu cho đúng kích thước mà keras yêu cầu\n",
    "X_train = X_train.reshape(X_train.shape[0], 28, 28, 1)\n",
    "X_val = X_val.reshape(X_val.shape[0], 28, 28, 1)\n",
    "X_test = X_test.reshape(X_test.shape[0], 28, 28, 1)\n"
   ]
  },
  {
   "cell_type": "code",
   "execution_count": 32,
   "metadata": {},
   "outputs": [
    {
     "data": {
      "text/plain": [
       "(50000, 28, 28, 1)"
      ]
     },
     "execution_count": 32,
     "metadata": {},
     "output_type": "execute_result"
    }
   ],
   "source": [
    "X_train.shape"
   ]
  },
  {
   "cell_type": "code",
   "execution_count": 16,
   "metadata": {},
   "outputs": [
    {
     "name": "stdout",
     "output_type": "stream",
     "text": [
      "Dữ liệu y ban đầu  1\n",
      "Dữ liệu y sau one-hot encoding  [0. 1. 0. 0. 0. 0. 0. 0. 0. 0.]\n"
     ]
    },
    {
     "data": {
      "text/plain": [
       "(50000, 10)"
      ]
     },
     "execution_count": 16,
     "metadata": {},
     "output_type": "execute_result"
    }
   ],
   "source": [
    "# 4. One hot encoding label (Y)\n",
    "Y_train = to_categorical(y_train, 10)\n",
    "Y_val = to_categorical(y_val, 10)\n",
    "Y_test = to_categorical(y_test, 10)\n",
    "print('Dữ liệu y ban đầu ', y_train[3])\n",
    "print('Dữ liệu y sau one-hot encoding ',Y_train[3])\n",
    "Y_train.shape\n"
   ]
  },
  {
   "cell_type": "code",
   "execution_count": 34,
   "metadata": {},
   "outputs": [],
   "source": [
    "# 5. Định nghĩa model\n",
    "model = Sequential()\n",
    "# Thêm Convolutional layer với 32 kernel, kích thước kernel 3*3\n",
    "# dùng hàm sigmoid làm activation và chỉ rõ input_shape cho layer đầu tiên\n",
    "model.add(Conv2D(32, (3, 3), activation='sigmoid', input_shape=(28,28,1)))\n",
    "# Thêm Convolutional layer\n",
    "model.add(Conv2D(32, (3, 3), activation='sigmoid'))\n",
    "# Thêm Max pooling layer\n",
    "model.add(MaxPooling2D(pool_size=(2,2)))\n",
    "# Flatten layer chuyển từ tensor sang vector\n",
    "model.add(Flatten())\n",
    "# Thêm Fully Connected layer với 128 nodes và dùng hàm sigmoid\n",
    "model.add(Dense(128, activation='sigmoid'))\n",
    "# Output layer với 10 node và dùng softmax function để chuyển sang xác suất.\n",
    "model.add(Dense(10, activation='softmax'))"
   ]
  },
  {
   "cell_type": "code",
   "execution_count": 36,
   "metadata": {},
   "outputs": [],
   "source": [
    "# 6. Compile model, chỉ rõ hàm loss_function nào được sử dụng, phương thức\n",
    "# đùng để tối ưu hàm loss function.\n",
    "from tensorflow.keras.optimizers import Adam\n",
    "model.compile(loss='categorical_crossentropy',\n",
    "optimizer=Adam(),\n",
    "metrics=['accuracy'])"
   ]
  },
  {
   "cell_type": "code",
   "execution_count": 37,
   "metadata": {},
   "outputs": [
    {
     "name": "stdout",
     "output_type": "stream",
     "text": [
      "Epoch 1/10\n",
      "WARNING:tensorflow:From d:\\pythonn\\Lib\\site-packages\\keras\\src\\utils\\tf_utils.py:492: The name tf.ragged.RaggedTensorValue is deprecated. Please use tf.compat.v1.ragged.RaggedTensorValue instead.\n",
      "\n",
      "WARNING:tensorflow:From d:\\pythonn\\Lib\\site-packages\\keras\\src\\engine\\base_layer_utils.py:384: The name tf.executing_eagerly_outside_functions is deprecated. Please use tf.compat.v1.executing_eagerly_outside_functions instead.\n",
      "\n",
      "1563/1563 [==============================] - 14s 8ms/step - loss: 0.2765 - accuracy: 0.9255 - val_loss: 0.0720 - val_accuracy: 0.9814\n",
      "Epoch 2/10\n",
      "1563/1563 [==============================] - 13s 8ms/step - loss: 0.0578 - accuracy: 0.9825 - val_loss: 0.0500 - val_accuracy: 0.9856\n",
      "Epoch 3/10\n",
      "1563/1563 [==============================] - 13s 8ms/step - loss: 0.0347 - accuracy: 0.9900 - val_loss: 0.0463 - val_accuracy: 0.9863\n",
      "Epoch 4/10\n",
      "1563/1563 [==============================] - 13s 8ms/step - loss: 0.0238 - accuracy: 0.9934 - val_loss: 0.0454 - val_accuracy: 0.9873\n",
      "Epoch 5/10\n",
      "1563/1563 [==============================] - 13s 8ms/step - loss: 0.0144 - accuracy: 0.9960 - val_loss: 0.0385 - val_accuracy: 0.9887\n",
      "Epoch 6/10\n",
      "1563/1563 [==============================] - 13s 8ms/step - loss: 0.0107 - accuracy: 0.9972 - val_loss: 0.0379 - val_accuracy: 0.9894\n",
      "Epoch 7/10\n",
      "1563/1563 [==============================] - 15s 9ms/step - loss: 0.0077 - accuracy: 0.9981 - val_loss: 0.0409 - val_accuracy: 0.9878\n",
      "Epoch 8/10\n",
      "1563/1563 [==============================] - 14s 9ms/step - loss: 0.0052 - accuracy: 0.9987 - val_loss: 0.0402 - val_accuracy: 0.9892\n",
      "Epoch 9/10\n",
      "1563/1563 [==============================] - 13s 8ms/step - loss: 0.0042 - accuracy: 0.9989 - val_loss: 0.0425 - val_accuracy: 0.9872\n",
      "Epoch 10/10\n",
      "1563/1563 [==============================] - 13s 8ms/step - loss: 0.0035 - accuracy: 0.9993 - val_loss: 0.0462 - val_accuracy: 0.9881\n"
     ]
    }
   ],
   "source": [
    "# 7. Thực hiện train model với data\n",
    "H = model.fit(X_train, Y_train, validation_data=(X_val, Y_val),\n",
    "batch_size=32, epochs=10, verbose=1)\n"
   ]
  },
  {
   "cell_type": "code",
   "execution_count": 39,
   "metadata": {},
   "outputs": [
    {
     "data": {
      "text/plain": [
       "<matplotlib.legend.Legend at 0x1b37eb46210>"
      ]
     },
     "execution_count": 39,
     "metadata": {},
     "output_type": "execute_result"
    },
    {
     "data": {
      "image/png": "[encoded data removed]",
      "text/plain": [
       "<Figure size 640x480 with 1 Axes>"
      ]
     },
     "metadata": {},
     "output_type": "display_data"
    }
   ],
   "source": [
    "# 8. Vẽ đồ thị loss, accuracy của training set và validation set\n",
    "fig = plt.figure()\n",
    "numOfEpoch = 10\n",
    "plt.plot(np.arange(0, numOfEpoch), H.history['loss'], label='training loss')\n",
    "plt.plot(np.arange(0, numOfEpoch), H.history['val_loss'], label='validation loss')\n",
    "plt.plot(np.arange(0, numOfEpoch), H.history['accuracy'], label='accuracy')\n",
    "plt.plot(np.arange(0, numOfEpoch), H.history['val_accuracy'], label='validation accuracy')\n",
    "plt.title('Accuracy and Loss')\n",
    "plt.xlabel('Epoch')\n",
    "plt.ylabel('Loss|Accuracy')\n",
    "plt.legend()\n"
   ]
  },
  {
   "cell_type": "code",
   "execution_count": 40,
   "metadata": {},
   "outputs": [
    {
     "name": "stdout",
     "output_type": "stream",
     "text": [
      "[0.038155291229486465, 0.9883000254631042]\n"
     ]
    }
   ],
   "source": [
    "# 9. Đánh giá model với dữ liệu test set\n",
    "score = model.evaluate(X_test, Y_test, verbose=0)\n",
    "print(score)"
   ]
  },
  {
   "cell_type": "code",
   "execution_count": 41,
   "metadata": {},
   "outputs": [
    {
     "data": {
      "text/plain": [
       "<matplotlib.image.AxesImage at 0x1b37ed73fd0>"
      ]
     },
     "execution_count": 41,
     "metadata": {},
     "output_type": "execute_result"
    },
    {
     "data": {
      "image/png": "[encoded data removed]",
      "text/plain": [
       "<Figure size 640x480 with 1 Axes>"
      ]
     },
     "metadata": {},
     "output_type": "display_data"
    }
   ],
   "source": [
    "# 10. Dự đoán ảnh\n",
    "plt.imshow(X_test[0].reshape(28,28), cmap='gray')\n"
   ]
  },
  {
   "cell_type": "code",
   "execution_count": 42,
   "metadata": {},
   "outputs": [
    {
     "name": "stdout",
     "output_type": "stream",
     "text": [
      "1/1 [==============================] - 0s 64ms/step\n",
      "Giá trị dự đoán:  7\n"
     ]
    }
   ],
   "source": [
    "y_predict = model.predict(X_test[0].reshape(1,28,28,1))\n",
    "print('Giá trị dự đoán: ', np.argmax(y_predict))\n"
   ]
  }
 ],
 "metadata": {
  "kernelspec": {
   "display_name": "Python 3",
   "language": "python",
   "name": "python3"
  },
  "language_info": {
   "codemirror_mode": {
    "name": "ipython",
    "version": 3
   },
   "file_extension": ".py",
   "mimetype": "text/x-python",
   "name": "python",
   "nbconvert_exporter": "python",
   "pygments_lexer": "ipython3",
   "version": "3.11.6"
  }
 },
 "nbformat": 4,
 "nbformat_minor": 2
}
