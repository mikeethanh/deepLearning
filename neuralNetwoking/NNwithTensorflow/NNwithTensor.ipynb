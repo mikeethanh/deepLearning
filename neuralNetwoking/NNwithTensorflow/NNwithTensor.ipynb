{
 "cells": [
  {
   "cell_type": "code",
   "execution_count": 1,
   "metadata": {},
   "outputs": [
    {
     "name": "stdout",
     "output_type": "stream",
     "text": [
      "WARNING:tensorflow:From C:\\Users\\maith\\AppData\\Local\\Packages\\PythonSoftwareFoundation.Python.3.11_qbz5n2kfra8p0\\LocalCache\\local-packages\\Python311\\site-packages\\keras\\src\\losses.py:2976: The name tf.losses.sparse_softmax_cross_entropy is deprecated. Please use tf.compat.v1.losses.sparse_softmax_cross_entropy instead.\n",
      "\n"
     ]
    }
   ],
   "source": [
    "import numpy as np \n",
    "import matplotlib.pyplot as plt \n",
    "import tensorflow as tf\n",
    "%matplotlib inline"
   ]
  },
  {
   "cell_type": "code",
   "execution_count": 26,
   "metadata": {},
   "outputs": [],
   "source": [
    "\n",
    "\n",
    "class NeuralNetwork(object):\n",
    "    def __init__(self, layers):\n",
    "        self.layers = layers\n",
    "        self.numLayers = len(layers) - 1\n",
    "        self.params = {}\n",
    "        self.grad = {}\n",
    "\n",
    "        for i in range(self.numLayers):\n",
    "            self.params['W' + str(i+1)] = tf.Variable(np.random.normal(size=(self.layers[i], self.layers[i+1])))\n",
    "            self.params['b' + str(i+1)] = tf.Variable(np.random.normal(size=(self.layers[i+1])))\n",
    "\n",
    "    def feedforward(self, X):\n",
    "        A = tf.convert_to_tensor(X, dtype=tf.float32)\n",
    "\n",
    "        for i in range(self.numLayers):\n",
    "            # hàm tf.cast() được sử dụng để chuyển đổi kiểu dữ liệu của tensor từ một kiểu sang kiểu khác. \n",
    "            W = tf.cast(self.params['W' + str(i+1)], dtype=tf.float32)\n",
    "            b = tf.cast(self.params['b' + str(i+1)], dtype=tf.float32)\n",
    "\n",
    "            # tf.matmul(A, W) thực hiện phép nhân ma trận giữa hai tensor A và W.\n",
    "            Z = tf.matmul(A, W) + b\n",
    "\n",
    "            if i != self.numLayers - 1:\n",
    "                A = tf.nn.relu(Z)\n",
    "            else:\n",
    "                A = Z\n",
    "        return A\n",
    "\n",
    "    # Hàm computeLoss trong code của bạn sử dụng tf.nn.softmax_cross_entropy_with_logits để tính toán hàm mất mát (loss function) giữa đầu ra dự đoán (A) và nhãn thực tế (y) \n",
    "    # trong mô hình neural network.\n",
    "\n",
    "# Đây là cách các đối số được sử dụng trong hàm tf.nn.softmax_cross_entropy_with_logits:\n",
    "\n",
    "# labels=y: Đây là nhãn thực tế mà bạn cung cấp cho mô hình. Nó cần được chuẩn hóa về dạng xác suất one-hot encoding nếu chưa được làm. Trong mô hình phân loại,\n",
    "#  y thường được biểu diễn dưới dạng one-hot encoding (ví dụ: [0, 1, 0] thay vì chỉ là lớp số 1). Hàm tf.nn.softmax_cross_entropy_with_logits tự động áp dụng hàm \n",
    "# softmax cho các giá trị đầu vào trước khi tính toán entropy cross.\n",
    "\n",
    "# logits=A: Đây là đầu ra của mô hình, thường là các giá trị trước khi áp dụng hàm softmax (vì đã sử dụng hàm softmax trong hàm self.feedforward). A là kết quả đầu \n",
    "# ra của lớp cuối cùng của mạng neural.\n",
    "\n",
    "# Hàm tf.nn.softmax_cross_entropy_with_logits tính toán entropy chéo (cross-entropy) giữa phân phối xác suất dự đoán của mô hình (sau softmax) và phân phối xác suất\n",
    "#  thực tế của dữ liệu (labels). Sau đó, tf.reduce_mean được sử dụng để tính trung bình của toàn bộ các giá trị entropy chéo trên batch (nếu bạn đang sử dụng batch\n",
    "#  để đào tạo mô hình).\n",
    "\n",
    "# Hàm mất mát này được sử dụng để đánh giá sự khác biệt giữa dự đoán của mô hình và nhãn thực tế và là mục tiêu để mạng neural cố gắng học trong quá trình đào tạo.\n",
    "    def computeLoss2(self, A, y):\n",
    "        loss = tf.nn.softmax_cross_entropy_with_logits(labels=y, logits=A)\n",
    "        return loss\n",
    "    \n",
    "    def computeLoss(self, A, y):\n",
    "        loss = tf.nn.softmax_cross_entropy_with_logits(labels=y, logits=A)\n",
    "        return tf.reduce_mean(loss)\n",
    "\n",
    "    def updateParams(self, lr):\n",
    "        for i in range(self.numLayers):\n",
    "            self.params['W' + str(i+1)].assign_sub(lr * self.grad['W' + str(i+1)])\n",
    "            self.params['b' + str(i+1)].assign_sub(lr * self.grad['b' + str(i+1)])\n",
    "\n",
    "    def predict(self, X):\n",
    "        A = self.feedforward(X)\n",
    "        # Hàm tf.argmax() trong TensorFlow được sử dụng để tìm vị trí của giá trị lớn nhất trong tensor theo một trục cụ thể.\n",
    "        # axis = 1 la theo hang \n",
    "        return tf.argmax(tf.nn.softmax(A), axis=1)\n",
    "\n",
    "    def trainOnBatch(self, X, y, lr):\n",
    "        X = tf.convert_to_tensor(X, dtype=tf.float32)\n",
    "        y = tf.convert_to_tensor(y, dtype=tf.float32)\n",
    "\n",
    "        with tf.GradientTape(persistent=True) as tape:\n",
    "            A = self.feedforward(X)\n",
    "            loss = self.computeLoss(A, y)\n",
    "\n",
    "        for i in range(self.numLayers):\n",
    "            self.grad['W' + str(i+1)] = tape.gradient(loss, self.params['W' + str(i+1)])\n",
    "            self.grad['b' + str(i+1)] = tape.gradient(loss, self.params['b' + str(i+1)])\n",
    "        del tape\n",
    "        self.updateParams(lr)\n",
    "\n",
    "    def train(self, X_train, y_train, X_test, y_test, epochs, steps_per_epoch, batch_size, lr):\n",
    "        history = {\n",
    "            'train_acc': [],\n",
    "            'train_loss': [],\n",
    "            'val_acc': []\n",
    "        }\n",
    "\n",
    "        for e in range(epochs):\n",
    "            epochsTrainLoss = 0\n",
    "            print('Epoch {}'.format(e), end='-')\n",
    "            for i in range(steps_per_epoch):\n",
    "                X_batch = X_train[i * batch_size:(i + 1) * batch_size]\n",
    "                y_batch = y_train[i * batch_size:(i + 1) * batch_size]\n",
    "\n",
    "                self.trainOnBatch(X_batch, y_batch, lr)\n",
    "                batch_loss = self.computeLoss(self.feedforward(X_batch), y_batch)\n",
    "                epochsTrainLoss += batch_loss\n",
    "\n",
    "                if i % int(steps_per_epoch / 10) == 0:\n",
    "                    print('-', end='')\n",
    "\n",
    "            history['train_loss'].append(epochsTrainLoss / steps_per_epoch)\n",
    "            train_preds = self.predict(X_train)\n",
    "            # np.mean(np.argmax(y_train, axis=1) == train_preds.numpy()): Đoạn code này so sánh giữa kết quả dự đoán của mô hình (train_preds) và nhãn thực tế (y_train).\n",
    "            #  Nó so sánh xem vị trí của lớp có xác suất cao nhất từ dự đoán của mô hình có trùng khớp với vị trí của nhãn thực tế hay không. Khi hai mảng này bằng nhau \n",
    "            # (tức là dự đoán chính xác), nó trả về True, ngược lại trả về False. Sau đó, hàm np.mean() tính trung bình các giá trị True và False này, trong đó giá trị \n",
    "            # True được tính là 1, False được tính là 0. Kết quả là tỷ lệ các dự đoán chính xác trên tập huấn luyện (accuracy).\n",
    "            train_acc = np.mean(np.argmax(y_train, axis=1) == train_preds.numpy())\n",
    "            history['train_acc'].append(train_acc)\n",
    "            val_preds = self.predict(X_test)\n",
    "            val_acc = np.mean(np.argmax(y_test, axis=1) == val_preds.numpy())\n",
    "            history['val_acc'].append(val_acc)\n",
    "\n",
    "            print('Train_acc:{}  . Val_acc:{}'.format(train_acc, val_acc))\n",
    "        return history\n"
   ]
  },
  {
   "cell_type": "code",
   "execution_count": 3,
   "metadata": {},
   "outputs": [],
   "source": [
    "def load():\n",
    "    (X_train,y_train),(X_test,y_test) = tf.keras.datasets.mnist.load_data()\n",
    "    # np.reshape(X_train, (X_train.shape[0], 784)): Sử dụng np.reshape để thay đổi hình dạng của X_train. Cụ thể, nó biến đổi mỗi hình ảnh 28x28 pixel (mỗi hàng là 28 pixel và có 28 hàng) \n",
    "    # thành một vector có độ dài 784 (28x28). Kích thước của X_train trở thành (số lượng mẫu, 784), trong đó mỗi hàng đại diện cho một hình ảnh.\n",
    "    X_train = np.reshape(X_train,(X_train.shape[0],784))/255.0\n",
    "    X_test = np.reshape(X_test,(X_test.shape[0],784))/255.0\n",
    "    y_train = tf.keras.utils.to_categorical(y_train)\n",
    "    y_test = tf.keras.utils.to_categorical(y_test)\n",
    "    return (X_train,y_train),(X_test,y_test)\n",
    "\n",
    "def plot_random_images(x,y,p=None):\n",
    "    indices = np.random.choice(range(x.shape[0]),10)\n",
    "    y = np.argmax(y,axis=1)\n",
    "\n",
    "    if p is None :\n",
    "        p = y\n",
    "    plt.figure(figsize=(10,5))\n",
    "    for i , index in enumerate(indices):\n",
    "        plt.subplot(2,5,i+1)\n",
    "        plt.imshow(x[index].reshape((28,28)),cmap='binary')\n",
    "        plt.xticks([])\n",
    "        plt.yticks([])\n",
    "        if y[index] == p[index]:\n",
    "            col = 'g'\n",
    "        else:\n",
    "            col = 'r'\n",
    "        plt.xlabel(str(p[index]),color = col)\n"
   ]
  },
  {
   "cell_type": "code",
   "execution_count": 31,
   "metadata": {},
   "outputs": [],
   "source": [
    "(X_train,y_train),(X_test,y_test) = load()"
   ]
  },
  {
   "cell_type": "code",
   "execution_count": 14,
   "metadata": {},
   "outputs": [
    {
     "data": {
      "text/plain": [
       "TensorShape([60000, 784])"
      ]
     },
     "execution_count": 14,
     "metadata": {},
     "output_type": "execute_result"
    }
   ],
   "source": [
    "X_train = tf.convert_to_tensor(X_train, dtype=tf.float32)\n",
    "y_train = tf.convert_to_tensor(y_train, dtype=tf.float32)\n",
    "X_train.shape"
   ]
  },
  {
   "cell_type": "code",
   "execution_count": 22,
   "metadata": {},
   "outputs": [],
   "source": [
    "X_test = tf.convert_to_tensor(X_test, dtype=tf.float32)\n",
    "y_test = tf.convert_to_tensor(y_test, dtype=tf.float32)"
   ]
  },
  {
   "cell_type": "code",
   "execution_count": 6,
   "metadata": {},
   "outputs": [
    {
     "data": {
      "text/plain": [
       "(60000, 784)"
      ]
     },
     "execution_count": 6,
     "metadata": {},
     "output_type": "execute_result"
    }
   ],
   "source": [
    "X_train.shape"
   ]
  },
  {
   "cell_type": "code",
   "execution_count": 11,
   "metadata": {},
   "outputs": [
    {
     "data": {
      "text/plain": [
       "array([0.99215686, 0.95294118, 0.19607843, 0.        , 0.        ,\n",
       "       0.        , 0.        , 0.        , 0.        , 0.        ,\n",
       "       0.        , 0.        , 0.        , 0.        , 0.        ,\n",
       "       0.        , 0.14901961, 0.64705882, 0.99215686, 0.91372549,\n",
       "       0.81568627, 0.32941176, 0.        , 0.        , 0.        ,\n",
       "       0.        , 0.        , 0.        , 0.99215686, 0.98823529,\n",
       "       0.64705882, 0.        , 0.        , 0.        , 0.        ,\n",
       "       0.        , 0.        , 0.        , 0.        , 0.        ,\n",
       "       0.        , 0.        , 0.        , 0.02745098, 0.69803922,\n",
       "       0.98823529, 0.94117647, 0.27843137, 0.0745098 , 0.10980392,\n",
       "       0.        , 0.        , 0.        , 0.        , 0.        ,\n",
       "       0.        , 0.99215686, 0.98823529, 0.76470588, 0.        ,\n",
       "       0.        , 0.        , 0.        , 0.        , 0.        ,\n",
       "       0.        , 0.        , 0.        , 0.        , 0.        ,\n",
       "       0.        , 0.22352941, 0.98823529, 0.98823529, 0.24705882,\n",
       "       0.        , 0.        , 0.        , 0.        , 0.        ,\n",
       "       0.        , 0.        , 0.        , 0.        , 0.99215686,\n",
       "       0.98823529, 0.76470588, 0.        , 0.        , 0.        ,\n",
       "       0.        , 0.        , 0.        , 0.        , 0.        ,\n",
       "       0.        , 0.        , 0.        , 0.        , 0.77647059])"
      ]
     },
     "execution_count": 11,
     "metadata": {},
     "output_type": "execute_result"
    }
   ],
   "source": [
    "X_train[1,300:400]"
   ]
  },
  {
   "cell_type": "code",
   "execution_count": 9,
   "metadata": {},
   "outputs": [
    {
     "data": {
      "text/plain": [
       "(60000, 10)"
      ]
     },
     "execution_count": 9,
     "metadata": {},
     "output_type": "execute_result"
    }
   ],
   "source": [
    "y_train.shape"
   ]
  },
  {
   "cell_type": "code",
   "execution_count": 12,
   "metadata": {},
   "outputs": [
    {
     "data": {
      "text/plain": [
       "array([1., 0., 0., 0., 0., 0., 0., 0., 0., 0.], dtype=float32)"
      ]
     },
     "execution_count": 12,
     "metadata": {},
     "output_type": "execute_result"
    }
   ],
   "source": [
    "y_train[1,:]"
   ]
  },
  {
   "cell_type": "code",
   "execution_count": 5,
   "metadata": {},
   "outputs": [
    {
     "ename": "AttributeError",
     "evalue": "'NoneType' object has no attribute 'show'",
     "output_type": "error",
     "traceback": [
      "\u001b[1;31m---------------------------------------------------------------------------\u001b[0m",
      "\u001b[1;31mAttributeError\u001b[0m                            Traceback (most recent call last)",
      "\u001b[1;32me:\\deepLearning\\neuralNetwoking\\NNwithTensorflow\\NNwithTensor.ipynb Cell 5\u001b[0m line \u001b[0;36m1\n\u001b[1;32m----> <a href='vscode-notebook-cell:/e%3A/deepLearning/neuralNetwoking/NNwithTensorflow/NNwithTensor.ipynb#W4sZmlsZQ%3D%3D?line=0'>1</a>\u001b[0m plot_random_images(X_train,y_train)\u001b[39m.\u001b[39;49mshow()\n",
      "\u001b[1;31mAttributeError\u001b[0m: 'NoneType' object has no attribute 'show'"
     ]
    },
    {
     "data": {
      "image/png": "[encoded data removed]",
      "text/plain": [
       "<Figure size 1000x500 with 10 Axes>"
      ]
     },
     "metadata": {},
     "output_type": "display_data"
    }
   ],
   "source": [
    "plot_random_images(X_train,y_train).show()"
   ]
  },
  {
   "cell_type": "code",
   "execution_count": 27,
   "metadata": {},
   "outputs": [],
   "source": [
    "net = NeuralNetwork([784,128,128,10])\n"
   ]
  },
  {
   "cell_type": "code",
   "execution_count": 28,
   "metadata": {},
   "outputs": [
    {
     "data": {
      "text/plain": [
       "<tf.Tensor: shape=(60000,), dtype=float32, numpy=\n",
       "array([   0.    ,  919.3557, 2513.1963, ...,    0.    ,  454.1125,\n",
       "       2181.8123], dtype=float32)>"
      ]
     },
     "execution_count": 28,
     "metadata": {},
     "output_type": "execute_result"
    }
   ],
   "source": [
    "net.computeLoss2(net.feedforward(X_train), y_train)"
   ]
  },
  {
   "cell_type": "code",
   "execution_count": 29,
   "metadata": {},
   "outputs": [
    {
     "data": {
      "text/plain": [
       "<tf.Tensor: shape=(), dtype=float32, numpy=1148.3064>"
      ]
     },
     "execution_count": 29,
     "metadata": {},
     "output_type": "execute_result"
    }
   ],
   "source": [
    "net.computeLoss(net.feedforward(X_train), y_train)"
   ]
  },
  {
   "cell_type": "code",
   "execution_count": 34,
   "metadata": {},
   "outputs": [],
   "source": [
    "batch_size = 120\n",
    "epochs  = 7\n",
    "steps_per_epochs = int(X_train.shape[0]/batch_size)\n",
    "lr = 3e-3\n"
   ]
  },
  {
   "cell_type": "code",
   "execution_count": 35,
   "metadata": {},
   "outputs": [
    {
     "name": "stdout",
     "output_type": "stream",
     "text": [
      "Epoch 0-----------Train_acc:0.8037666666666666  . Val_acc:0.8043\n",
      "Epoch 1-----------Train_acc:0.83795  . Val_acc:0.8363\n",
      "Epoch 2-----------Train_acc:0.8544333333333334  . Val_acc:0.8507\n",
      "Epoch 3-----------Train_acc:0.8640833333333333  . Val_acc:0.8614\n",
      "Epoch 4-----------Train_acc:0.8702833333333333  . Val_acc:0.8672\n",
      "Epoch 5-----------Train_acc:0.8752  . Val_acc:0.8699\n",
      "Epoch 6-----------Train_acc:0.88035  . Val_acc:0.8755\n"
     ]
    }
   ],
   "source": [
    "history = net.train(X_train,y_train,X_test,y_test,epochs,steps_per_epochs,batch_size,lr)"
   ]
  },
  {
   "cell_type": "code",
   "execution_count": 36,
   "metadata": {},
   "outputs": [
    {
     "ename": "IndexError",
     "evalue": "index 43744 is out of bounds for axis 0 with size 10000",
     "output_type": "error",
     "traceback": [
      "\u001b[1;31m---------------------------------------------------------------------------\u001b[0m",
      "\u001b[1;31mIndexError\u001b[0m                                Traceback (most recent call last)",
      "\u001b[1;32me:\\deepLearning\\neuralNetwoking\\NNwithTensorflow\\NNwithTensor.ipynb Cell 17\u001b[0m line \u001b[0;36m2\n\u001b[0;32m      <a href='vscode-notebook-cell:/e%3A/deepLearning/neuralNetwoking/NNwithTensorflow/NNwithTensor.ipynb#X25sZmlsZQ%3D%3D?line=0'>1</a>\u001b[0m y_preds \u001b[39m=\u001b[39m net\u001b[39m.\u001b[39mpredict(X_test)\u001b[39m.\u001b[39mnumpy()\n\u001b[1;32m----> <a href='vscode-notebook-cell:/e%3A/deepLearning/neuralNetwoking/NNwithTensorflow/NNwithTensor.ipynb#X25sZmlsZQ%3D%3D?line=1'>2</a>\u001b[0m plot_random_images(X_train,y_train,y_preds)\u001b[39m.\u001b[39mshow()\n",
      "\u001b[1;32me:\\deepLearning\\neuralNetwoking\\NNwithTensorflow\\NNwithTensor.ipynb Cell 17\u001b[0m line \u001b[0;36m2\n\u001b[0;32m     <a href='vscode-notebook-cell:/e%3A/deepLearning/neuralNetwoking/NNwithTensorflow/NNwithTensor.ipynb#X25sZmlsZQ%3D%3D?line=20'>21</a>\u001b[0m plt\u001b[39m.\u001b[39mxticks([])\n\u001b[0;32m     <a href='vscode-notebook-cell:/e%3A/deepLearning/neuralNetwoking/NNwithTensorflow/NNwithTensor.ipynb#X25sZmlsZQ%3D%3D?line=21'>22</a>\u001b[0m plt\u001b[39m.\u001b[39myticks([])\n\u001b[1;32m---> <a href='vscode-notebook-cell:/e%3A/deepLearning/neuralNetwoking/NNwithTensorflow/NNwithTensor.ipynb#X25sZmlsZQ%3D%3D?line=22'>23</a>\u001b[0m \u001b[39mif\u001b[39;00m y[index] \u001b[39m==\u001b[39m p[index]:\n\u001b[0;32m     <a href='vscode-notebook-cell:/e%3A/deepLearning/neuralNetwoking/NNwithTensorflow/NNwithTensor.ipynb#X25sZmlsZQ%3D%3D?line=23'>24</a>\u001b[0m     col \u001b[39m=\u001b[39m \u001b[39m'\u001b[39m\u001b[39mg\u001b[39m\u001b[39m'\u001b[39m\n\u001b[0;32m     <a href='vscode-notebook-cell:/e%3A/deepLearning/neuralNetwoking/NNwithTensorflow/NNwithTensor.ipynb#X25sZmlsZQ%3D%3D?line=24'>25</a>\u001b[0m \u001b[39melse\u001b[39;00m:\n",
      "\u001b[1;31mIndexError\u001b[0m: index 43744 is out of bounds for axis 0 with size 10000"
     ]
    },
    {
     "data": {
      "image/png": "[encoded data removed]",
      "text/plain": [
       "<Figure size 1000x500 with 1 Axes>"
      ]
     },
     "metadata": {},
     "output_type": "display_data"
    }
   ],
   "source": [
    "y_preds = net.predict(X_test).numpy()\n",
    "plot_random_images(X_train,y_train,y_preds).show()"
   ]
  }
 ],
 "metadata": {
  "kernelspec": {
   "display_name": "Python 3",
   "language": "python",
   "name": "python3"
  },
  "language_info": {
   "codemirror_mode": {
    "name": "ipython",
    "version": 3
   },
   "file_extension": ".py",
   "mimetype": "text/x-python",
   "name": "python",
   "nbconvert_exporter": "python",
   "pygments_lexer": "ipython3",
   "version": "3.11.6"
  }
 },
 "nbformat": 4,
 "nbformat_minor": 2
}
