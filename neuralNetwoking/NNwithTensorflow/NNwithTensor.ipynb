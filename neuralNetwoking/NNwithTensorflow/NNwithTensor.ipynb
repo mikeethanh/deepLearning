{
 "cells": [
  {
   "cell_type": "code",
   "execution_count": 1,
   "metadata": {},
   "outputs": [
    {
     "name": "stdout",
     "output_type": "stream",
     "text": [
      "WARNING:tensorflow:From C:\\Users\\maith\\AppData\\Local\\Packages\\PythonSoftwareFoundation.Python.3.11_qbz5n2kfra8p0\\LocalCache\\local-packages\\Python311\\site-packages\\keras\\src\\losses.py:2976: The name tf.losses.sparse_softmax_cross_entropy is deprecated. Please use tf.compat.v1.losses.sparse_softmax_cross_entropy instead.\n",
      "\n"
     ]
    }
   ],
   "source": [
    "import numpy as np \n",
    "import matplotlib.pyplot as plt \n",
    "import tensorflow as tf\n",
    "%matplotlib inline"
   ]
  },
  {
   "cell_type": "code",
   "execution_count": 49,
   "metadata": {},
   "outputs": [],
   "source": [
    "\n",
    "\n",
    "class NeuralNetwork(object):\n",
    "    def __init__(self, layers):\n",
    "        self.layers = layers\n",
    "        self.numLayers = len(layers) - 1\n",
    "        self.params = {}\n",
    "        self.grad = {}\n",
    "\n",
    "        for i in range(self.numLayers):\n",
    "            self.params['W' + str(i+1)] = tf.Variable(np.random.normal(size=(self.layers[i], self.layers[i+1])))\n",
    "            self.params['b' + str(i+1)] = tf.Variable(np.random.normal(size=(self.layers[i+1])))\n",
    "\n",
    "    def feedforward(self, X):\n",
    "        A = tf.convert_to_tensor(X, dtype=tf.float32)\n",
    "\n",
    "        for i in range(self.numLayers):\n",
    "            W = tf.cast(self.params['W' + str(i+1)], dtype=tf.float32)\n",
    "            b = tf.cast(self.params['b' + str(i+1)], dtype=tf.float32)\n",
    "\n",
    "            Z = tf.matmul(A, W) + b\n",
    "\n",
    "            if i != self.numLayers - 1:\n",
    "                A = tf.nn.relu(Z)\n",
    "            else:\n",
    "                A = Z\n",
    "        return A\n",
    "\n",
    "    def computeLoss(self, A, y):\n",
    "        loss = tf.nn.softmax_cross_entropy_with_logits(labels=y, logits=A)\n",
    "        return tf.reduce_mean(loss)\n",
    "\n",
    "    def updateParams(self, lr):\n",
    "        for i in range(self.numLayers):\n",
    "            self.params['W' + str(i+1)].assign_sub(lr * self.grad['W' + str(i+1)])\n",
    "            self.params['b' + str(i+1)].assign_sub(lr * self.grad['b' + str(i+1)])\n",
    "\n",
    "    def predict(self, X):\n",
    "        A = self.feedforward(X)\n",
    "        return tf.argmax(tf.nn.softmax(A), axis=1)\n",
    "\n",
    "    def trainOnBatch(self, X, y, lr):\n",
    "        X = tf.convert_to_tensor(X, dtype=tf.float32)\n",
    "        y = tf.convert_to_tensor(y, dtype=tf.float32)\n",
    "\n",
    "        with tf.GradientTape(persistent=True) as tape:\n",
    "            A = self.feedforward(X)\n",
    "            loss = self.computeLoss(A, y)\n",
    "\n",
    "        for i in range(self.numLayers):\n",
    "            self.grad['W' + str(i+1)] = tape.gradient(loss, self.params['W' + str(i+1)])\n",
    "            self.grad['b' + str(i+1)] = tape.gradient(loss, self.params['b' + str(i+1)])\n",
    "        del tape\n",
    "        self.updateParams(lr)\n",
    "\n",
    "    def train(self, X_train, y_train, X_test, y_test, epochs, steps_per_epoch, batch_size, lr):\n",
    "        history = {\n",
    "            'train_acc': [],\n",
    "            'train_loss': [],\n",
    "            'val_acc': []\n",
    "        }\n",
    "\n",
    "        for e in range(epochs):\n",
    "            epochsTrainLoss = 0\n",
    "            print('Epoch {}'.format(e), end='-')\n",
    "            for i in range(steps_per_epoch):\n",
    "                X_batch = X_train[i * batch_size:(i + 1) * batch_size]\n",
    "                y_batch = y_train[i * batch_size:(i + 1) * batch_size]\n",
    "\n",
    "                self.trainOnBatch(X_batch, y_batch, lr)\n",
    "                batch_loss = self.computeLoss(self.feedforward(X_batch), y_batch)\n",
    "                epochsTrainLoss += batch_loss\n",
    "\n",
    "                if i % int(steps_per_epoch / 10) == 0:\n",
    "                    print('-', end='')\n",
    "\n",
    "            history['train_loss'].append(epochsTrainLoss / steps_per_epoch)\n",
    "            train_preds = self.predict(X_train)\n",
    "            train_acc = np.mean(np.argmax(y_train, axis=1) == train_preds.numpy())\n",
    "            history['train_acc'].append(train_acc)\n",
    "            val_preds = self.predict(X_test)\n",
    "            val_acc = np.mean(np.argmax(y_test, axis=1) == val_preds.numpy())\n",
    "            history['val_acc'].append(val_acc)\n",
    "\n",
    "            print('Train_acc:{}  . Val_acc:{}'.format(train_acc, val_acc))\n",
    "        return history\n"
   ]
  },
  {
   "cell_type": "code",
   "execution_count": 43,
   "metadata": {},
   "outputs": [],
   "source": [
    "def load():\n",
    "    (X_train,y_train),(X_test,y_test) = tf.keras.datasets.mnist.load_data()\n",
    "    X_train = np.reshape(X_train,(X_train.shape[0],784))/255.0\n",
    "    X_test = np.reshape(X_test,(X_test.shape[0],784))/255.0\n",
    "    y_train = tf.keras.utils.to_categorical(y_train)\n",
    "    y_test = tf.keras.utils.to_categorical(y_test)\n",
    "    return (X_train,y_train),(X_test,y_test)\n",
    "\n",
    "def plot_random_images(x,y,p=None):\n",
    "    indices = np.random.choice(range(x.shape[0]),10)\n",
    "    y = np.argmax(y,axis=1)\n",
    "\n",
    "    if p is None :\n",
    "        p = y\n",
    "    plt.figure(figsize=(10,5))\n",
    "    for i , index in enumerate(indices):\n",
    "        plt.subplot(2,5,i+1)\n",
    "        plt.imshow(x[index].reshape((28,28)),cmap='binary')\n",
    "        plt.xticks([])\n",
    "        plt.yticks([])\n",
    "        if y[index] == p[index]:\n",
    "            col = 'g'\n",
    "        else:\n",
    "            col = 'r'\n",
    "        plt.xlabel(str(p[index]),color = col)\n"
   ]
  },
  {
   "cell_type": "code",
   "execution_count": 8,
   "metadata": {},
   "outputs": [
    {
     "name": "stdout",
     "output_type": "stream",
     "text": [
      "Downloading data from https://storage.googleapis.com/tensorflow/tf-keras-datasets/mnist.npz\n"
     ]
    },
    {
     "name": "stdout",
     "output_type": "stream",
     "text": [
      "11490434/11490434 [==============================] - 4s 0us/step\n"
     ]
    }
   ],
   "source": [
    "(X_train,y_train),(X_test,y_test) = load()"
   ]
  },
  {
   "cell_type": "code",
   "execution_count": 44,
   "metadata": {},
   "outputs": [
    {
     "ename": "AttributeError",
     "evalue": "'NoneType' object has no attribute 'show'",
     "output_type": "error",
     "traceback": [
      "\u001b[1;31m---------------------------------------------------------------------------\u001b[0m",
      "\u001b[1;31mAttributeError\u001b[0m                            Traceback (most recent call last)",
      "\u001b[1;32me:\\deepLearning\\neuralNetwoking\\NNwithTensorflow\\NNwithTensor.ipynb Cell 5\u001b[0m line \u001b[0;36m1\n\u001b[1;32m----> <a href='vscode-notebook-cell:/e%3A/deepLearning/neuralNetwoking/NNwithTensorflow/NNwithTensor.ipynb#W4sZmlsZQ%3D%3D?line=0'>1</a>\u001b[0m plot_random_images(X_train,y_train)\u001b[39m.\u001b[39;49mshow()\n",
      "\u001b[1;31mAttributeError\u001b[0m: 'NoneType' object has no attribute 'show'"
     ]
    },
    {
     "data": {
      "image/png": "[encoded data removed]",
      "text/plain": [
       "<Figure size 1000x500 with 10 Axes>"
      ]
     },
     "metadata": {},
     "output_type": "display_data"
    }
   ],
   "source": [
    "plot_random_images(X_train,y_train).show()"
   ]
  },
  {
   "cell_type": "code",
   "execution_count": 50,
   "metadata": {},
   "outputs": [],
   "source": [
    "net = NeuralNetwork([784,128,128,10])\n"
   ]
  },
  {
   "cell_type": "code",
   "execution_count": 40,
   "metadata": {},
   "outputs": [],
   "source": [
    "batch_size = 120\n",
    "epochs  = 7\n",
    "steps_per_epochs = int(X_train.shape[0]/batch_size)\n",
    "lr = 3e-3\n"
   ]
  },
  {
   "cell_type": "code",
   "execution_count": 51,
   "metadata": {},
   "outputs": [
    {
     "name": "stdout",
     "output_type": "stream",
     "text": [
      "Epoch 0-----------Train_acc:0.8171333333333334  . Val_acc:0.8207\n",
      "Epoch 1-----------Train_acc:0.8466  . Val_acc:0.8477\n",
      "Epoch 2-----------Train_acc:0.8597  . Val_acc:0.8606\n",
      "Epoch 3-----------Train_acc:0.8695166666666667  . Val_acc:0.8696\n",
      "Epoch 4-----------Train_acc:0.8727833333333334  . Val_acc:0.8711\n",
      "Epoch 5-----------Train_acc:0.8755  . Val_acc:0.8728\n",
      "Epoch 6-----------Train_acc:0.88  . Val_acc:0.8766\n"
     ]
    }
   ],
   "source": [
    "history = net.train(X_train,y_train,X_test,y_test,epochs,steps_per_epochs,batch_size,lr)"
   ]
  }
 ],
 "metadata": {
  "kernelspec": {
   "display_name": "Python 3",
   "language": "python",
   "name": "python3"
  },
  "language_info": {
   "codemirror_mode": {
    "name": "ipython",
    "version": 3
   },
   "file_extension": ".py",
   "mimetype": "text/x-python",
   "name": "python",
   "nbconvert_exporter": "python",
   "pygments_lexer": "ipython3",
   "version": "3.11.6"
  }
 },
 "nbformat": 4,
 "nbformat_minor": 2
}
