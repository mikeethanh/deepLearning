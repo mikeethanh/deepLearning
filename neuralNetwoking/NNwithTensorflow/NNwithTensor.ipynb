{
 "cells": [
  {
   "cell_type": "code",
   "execution_count": 1,
   "metadata": {},
<<<<<<< HEAD
   "outputs": [
    {
     "name": "stdout",
     "output_type": "stream",
     "text": [
      "WARNING:tensorflow:From C:\\Users\\maith\\AppData\\Local\\Packages\\PythonSoftwareFoundation.Python.3.11_qbz5n2kfra8p0\\LocalCache\\local-packages\\Python311\\site-packages\\keras\\src\\losses.py:2976: The name tf.losses.sparse_softmax_cross_entropy is deprecated. Please use tf.compat.v1.losses.sparse_softmax_cross_entropy instead.\n",
      "\n"
     ]
    }
   ],
=======
   "outputs": [],
>>>>>>> 40a58b41dab73f3860587adc83fb04066bbc4387
   "source": [
    "import numpy as np \n",
    "import matplotlib.pyplot as plt \n",
    "import tensorflow as tf\n",
    "%matplotlib inline"
   ]
  },
  {
   "cell_type": "code",
<<<<<<< HEAD
   "execution_count": 26,
=======
   "execution_count": 2,
>>>>>>> 40a58b41dab73f3860587adc83fb04066bbc4387
   "metadata": {},
   "outputs": [],
   "source": [
    "\n",
    "\n",
    "class NeuralNetwork(object):\n",
    "    def __init__(self, layers):\n",
    "        self.layers = layers\n",
    "        self.numLayers = len(layers) - 1\n",
    "        self.params = {}\n",
    "        self.grad = {}\n",
    "\n",
    "        for i in range(self.numLayers):\n",
    "            self.params['W' + str(i+1)] = tf.Variable(np.random.normal(size=(self.layers[i], self.layers[i+1])))\n",
    "            self.params['b' + str(i+1)] = tf.Variable(np.random.normal(size=(self.layers[i+1])))\n",
    "\n",
    "    def feedforward(self, X):\n",
    "        A = tf.convert_to_tensor(X, dtype=tf.float32)\n",
    "\n",
    "        for i in range(self.numLayers):\n",
    "            # hàm tf.cast() được sử dụng để chuyển đổi kiểu dữ liệu của tensor từ một kiểu sang kiểu khác. \n",
    "            W = tf.cast(self.params['W' + str(i+1)], dtype=tf.float32)\n",
    "            b = tf.cast(self.params['b' + str(i+1)], dtype=tf.float32)\n",
    "\n",
    "            # tf.matmul(A, W) thực hiện phép nhân ma trận giữa hai tensor A và W.\n",
    "            Z = tf.matmul(A, W) + b\n",
    "\n",
    "            if i != self.numLayers - 1:\n",
    "                A = tf.nn.relu(Z)\n",
    "            else:\n",
    "                A = Z\n",
    "        return A\n",
    "\n",
    "    # Hàm computeLoss trong code của bạn sử dụng tf.nn.softmax_cross_entropy_with_logits để tính toán hàm mất mát (loss function) giữa đầu ra dự đoán (A) và nhãn thực tế (y) \n",
    "    # trong mô hình neural network.\n",
    "\n",
    "# Đây là cách các đối số được sử dụng trong hàm tf.nn.softmax_cross_entropy_with_logits:\n",
    "\n",
    "# labels=y: Đây là nhãn thực tế mà bạn cung cấp cho mô hình. Nó cần được chuẩn hóa về dạng xác suất one-hot encoding nếu chưa được làm. Trong mô hình phân loại,\n",
    "#  y thường được biểu diễn dưới dạng one-hot encoding (ví dụ: [0, 1, 0] thay vì chỉ là lớp số 1). Hàm tf.nn.softmax_cross_entropy_with_logits tự động áp dụng hàm \n",
    "# softmax cho các giá trị đầu vào trước khi tính toán entropy cross.\n",
    "\n",
    "# logits=A: Đây là đầu ra của mô hình, thường là các giá trị trước khi áp dụng hàm softmax (vì đã sử dụng hàm softmax trong hàm self.feedforward). A là kết quả đầu \n",
    "# ra của lớp cuối cùng của mạng neural.\n",
    "\n",
    "# Hàm tf.nn.softmax_cross_entropy_with_logits tính toán entropy chéo (cross-entropy) giữa phân phối xác suất dự đoán của mô hình (sau softmax) và phân phối xác suất\n",
    "#  thực tế của dữ liệu (labels). Sau đó, tf.reduce_mean được sử dụng để tính trung bình của toàn bộ các giá trị entropy chéo trên batch (nếu bạn đang sử dụng batch\n",
    "#  để đào tạo mô hình).\n",
    "\n",
    "# Hàm mất mát này được sử dụng để đánh giá sự khác biệt giữa dự đoán của mô hình và nhãn thực tế và là mục tiêu để mạng neural cố gắng học trong quá trình đào tạo.\n",
    "    def computeLoss2(self, A, y):\n",
    "        loss = tf.nn.softmax_cross_entropy_with_logits(labels=y, logits=A)\n",
    "        return loss\n",
    "    \n",
    "    def computeLoss(self, A, y):\n",
    "        loss = tf.nn.softmax_cross_entropy_with_logits(labels=y, logits=A)\n",
    "        return tf.reduce_mean(loss)\n",
    "\n",
    "    def updateParams(self, lr):\n",
    "        for i in range(self.numLayers):\n",
    "            self.params['W' + str(i+1)].assign_sub(lr * self.grad['W' + str(i+1)])\n",
    "            self.params['b' + str(i+1)].assign_sub(lr * self.grad['b' + str(i+1)])\n",
    "\n",
    "    def predict(self, X):\n",
    "        A = self.feedforward(X)\n",
    "        # Hàm tf.argmax() trong TensorFlow được sử dụng để tìm vị trí của giá trị lớn nhất trong tensor theo một trục cụ thể.\n",
    "        # axis = 1 la theo hang \n",
    "        return tf.argmax(tf.nn.softmax(A), axis=1)\n",
    "\n",
    "    def trainOnBatch(self, X, y, lr):\n",
    "        X = tf.convert_to_tensor(X, dtype=tf.float32)\n",
    "        y = tf.convert_to_tensor(y, dtype=tf.float32)\n",
    "\n",
    "        with tf.GradientTape(persistent=True) as tape:\n",
    "            A = self.feedforward(X)\n",
    "            loss = self.computeLoss(A, y)\n",
    "\n",
    "        for i in range(self.numLayers):\n",
    "            self.grad['W' + str(i+1)] = tape.gradient(loss, self.params['W' + str(i+1)])\n",
    "            self.grad['b' + str(i+1)] = tape.gradient(loss, self.params['b' + str(i+1)])\n",
    "        del tape\n",
    "        self.updateParams(lr)\n",
    "\n",
    "    def train(self, X_train, y_train, X_test, y_test, epochs, steps_per_epoch, batch_size, lr):\n",
    "        history = {\n",
    "            'train_acc': [],\n",
    "            'train_loss': [],\n",
    "            'val_acc': []\n",
    "        }\n",
    "\n",
    "        for e in range(epochs):\n",
    "            epochsTrainLoss = 0\n",
    "            print('Epoch {}'.format(e), end='-')\n",
    "            for i in range(steps_per_epoch):\n",
    "                X_batch = X_train[i * batch_size:(i + 1) * batch_size]\n",
    "                y_batch = y_train[i * batch_size:(i + 1) * batch_size]\n",
    "\n",
    "                self.trainOnBatch(X_batch, y_batch, lr)\n",
    "                batch_loss = self.computeLoss(self.feedforward(X_batch), y_batch)\n",
    "                epochsTrainLoss += batch_loss\n",
    "\n",
    "                if i % int(steps_per_epoch / 10) == 0:\n",
    "                    print('-', end='')\n",
    "\n",
    "            history['train_loss'].append(epochsTrainLoss / steps_per_epoch)\n",
    "            train_preds = self.predict(X_train)\n",
    "            # np.mean(np.argmax(y_train, axis=1) == train_preds.numpy()): Đoạn code này so sánh giữa kết quả dự đoán của mô hình (train_preds) và nhãn thực tế (y_train).\n",
    "            #  Nó so sánh xem vị trí của lớp có xác suất cao nhất từ dự đoán của mô hình có trùng khớp với vị trí của nhãn thực tế hay không. Khi hai mảng này bằng nhau \n",
    "            # (tức là dự đoán chính xác), nó trả về True, ngược lại trả về False. Sau đó, hàm np.mean() tính trung bình các giá trị True và False này, trong đó giá trị \n",
    "            # True được tính là 1, False được tính là 0. Kết quả là tỷ lệ các dự đoán chính xác trên tập huấn luyện (accuracy).\n",
    "            train_acc = np.mean(np.argmax(y_train, axis=1) == train_preds.numpy())\n",
    "            history['train_acc'].append(train_acc)\n",
    "            val_preds = self.predict(X_test)\n",
    "            val_acc = np.mean(np.argmax(y_test, axis=1) == val_preds.numpy())\n",
    "            history['val_acc'].append(val_acc)\n",
    "\n",
    "            print('Train_acc:{}  . Val_acc:{}'.format(train_acc, val_acc))\n",
    "        return history\n"
   ]
  },
  {
   "cell_type": "code",
   "execution_count": 3,
   "metadata": {},
   "outputs": [],
   "source": [
    "def load():\n",
    "    (X_train,y_train),(X_test,y_test) = tf.keras.datasets.mnist.load_data()\n",
    "    # np.reshape(X_train, (X_train.shape[0], 784)): Sử dụng np.reshape để thay đổi hình dạng của X_train. Cụ thể, nó biến đổi mỗi hình ảnh 28x28 pixel (mỗi hàng là 28 pixel và có 28 hàng) \n",
    "    # thành một vector có độ dài 784 (28x28). Kích thước của X_train trở thành (số lượng mẫu, 784), trong đó mỗi hàng đại diện cho một hình ảnh.\n",
    "    X_train = np.reshape(X_train,(X_train.shape[0],784))/255.0\n",
    "    X_test = np.reshape(X_test,(X_test.shape[0],784))/255.0\n",
    "    y_train = tf.keras.utils.to_categorical(y_train)\n",
    "    y_test = tf.keras.utils.to_categorical(y_test)\n",
    "    return (X_train,y_train),(X_test,y_test)\n",
    "\n",
    "def plot_random_images(x,y,p=None):\n",
    "    indices = np.random.choice(range(x.shape[0]),10)\n",
    "    y = np.argmax(y,axis=1)\n",
    "\n",
    "    if p is None :\n",
    "        p = y\n",
    "    plt.figure(figsize=(10,5))\n",
    "    for i , index in enumerate(indices):\n",
    "        plt.subplot(2,5,i+1)\n",
    "        plt.imshow(x[index].reshape((28,28)),cmap='binary')\n",
    "        plt.xticks([])\n",
    "        plt.yticks([])\n",
    "        if y[index] == p[index]:\n",
    "            col = 'g'\n",
    "        else:\n",
    "            col = 'r'\n",
    "        plt.xlabel(str(p[index]),color = col)\n"
   ]
  },
  {
   "cell_type": "code",
<<<<<<< HEAD
   "execution_count": 31,
=======
   "execution_count": 4,
>>>>>>> 40a58b41dab73f3860587adc83fb04066bbc4387
   "metadata": {},
   "outputs": [],
   "source": [
    "(X_train,y_train),(X_test,y_test) = load()"
   ]
  },
  {
   "cell_type": "code",
<<<<<<< HEAD
   "execution_count": 14,
   "metadata": {},
   "outputs": [
    {
     "data": {
      "text/plain": [
       "TensorShape([60000, 784])"
      ]
     },
     "execution_count": 14,
     "metadata": {},
     "output_type": "execute_result"
    }
   ],
   "source": [
    "X_train = tf.convert_to_tensor(X_train, dtype=tf.float32)\n",
    "y_train = tf.convert_to_tensor(y_train, dtype=tf.float32)\n",
    "X_train.shape"
   ]
  },
  {
   "cell_type": "code",
   "execution_count": 22,
   "metadata": {},
   "outputs": [],
   "source": [
    "X_test = tf.convert_to_tensor(X_test, dtype=tf.float32)\n",
    "y_test = tf.convert_to_tensor(y_test, dtype=tf.float32)"
=======
   "execution_count": null,
   "metadata": {},
   "outputs": [],
   "source": [
    "X.train.shaspe"
>>>>>>> 40a58b41dab73f3860587adc83fb04066bbc4387
   ]
  },
  {
   "cell_type": "code",
   "execution_count": 6,
   "metadata": {},
   "outputs": [
    {
     "data": {
      "text/plain": [
       "(60000, 784)"
      ]
     },
     "execution_count": 6,
     "metadata": {},
     "output_type": "execute_result"
    }
   ],
   "source": [
    "X_train.shape"
   ]
  },
  {
   "cell_type": "code",
   "execution_count": 11,
   "metadata": {},
   "outputs": [
    {
     "data": {
      "text/plain": [
       "array([0.99215686, 0.95294118, 0.19607843, 0.        , 0.        ,\n",
       "       0.        , 0.        , 0.        , 0.        , 0.        ,\n",
       "       0.        , 0.        , 0.        , 0.        , 0.        ,\n",
       "       0.        , 0.14901961, 0.64705882, 0.99215686, 0.91372549,\n",
       "       0.81568627, 0.32941176, 0.        , 0.        , 0.        ,\n",
       "       0.        , 0.        , 0.        , 0.99215686, 0.98823529,\n",
       "       0.64705882, 0.        , 0.        , 0.        , 0.        ,\n",
       "       0.        , 0.        , 0.        , 0.        , 0.        ,\n",
       "       0.        , 0.        , 0.        , 0.02745098, 0.69803922,\n",
       "       0.98823529, 0.94117647, 0.27843137, 0.0745098 , 0.10980392,\n",
       "       0.        , 0.        , 0.        , 0.        , 0.        ,\n",
       "       0.        , 0.99215686, 0.98823529, 0.76470588, 0.        ,\n",
       "       0.        , 0.        , 0.        , 0.        , 0.        ,\n",
       "       0.        , 0.        , 0.        , 0.        , 0.        ,\n",
       "       0.        , 0.22352941, 0.98823529, 0.98823529, 0.24705882,\n",
       "       0.        , 0.        , 0.        , 0.        , 0.        ,\n",
       "       0.        , 0.        , 0.        , 0.        , 0.99215686,\n",
       "       0.98823529, 0.76470588, 0.        , 0.        , 0.        ,\n",
       "       0.        , 0.        , 0.        , 0.        , 0.        ,\n",
       "       0.        , 0.        , 0.        , 0.        , 0.77647059])"
      ]
     },
     "execution_count": 11,
     "metadata": {},
     "output_type": "execute_result"
    }
   ],
   "source": [
    "X_train[1,300:400]"
   ]
  },
  {
   "cell_type": "code",
   "execution_count": 9,
   "metadata": {},
   "outputs": [
    {
     "data": {
      "text/plain": [
       "(60000, 10)"
      ]
     },
     "execution_count": 9,
     "metadata": {},
     "output_type": "execute_result"
    }
   ],
   "source": [
    "y_train.shape"
   ]
  },
  {
   "cell_type": "code",
   "execution_count": 12,
   "metadata": {},
   "outputs": [
    {
     "data": {
      "text/plain": [
       "array([1., 0., 0., 0., 0., 0., 0., 0., 0., 0.], dtype=float32)"
      ]
     },
     "execution_count": 12,
     "metadata": {},
     "output_type": "execute_result"
    }
   ],
   "source": [
    "y_train[1,:]"
   ]
  },
  {
   "cell_type": "code",
   "execution_count": 5,
   "metadata": {},
   "outputs": [
    {
     "ename": "AttributeError",
     "evalue": "'NoneType' object has no attribute 'show'",
     "output_type": "error",
     "traceback": [
      "\u001b[1;31m---------------------------------------------------------------------------\u001b[0m",
      "\u001b[1;31mAttributeError\u001b[0m                            Traceback (most recent call last)",
      "\u001b[1;32me:\\deepLearning\\neuralNetwoking\\NNwithTensorflow\\NNwithTensor.ipynb Cell 5\u001b[0m line \u001b[0;36m1\n\u001b[1;32m----> <a href='vscode-notebook-cell:/e%3A/deepLearning/neuralNetwoking/NNwithTensorflow/NNwithTensor.ipynb#W4sZmlsZQ%3D%3D?line=0'>1</a>\u001b[0m plot_random_images(X_train,y_train)\u001b[39m.\u001b[39;49mshow()\n",
      "\u001b[1;31mAttributeError\u001b[0m: 'NoneType' object has no attribute 'show'"
     ]
    },
    {
     "data": {
<<<<<<< HEAD
      "image/png": "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",
=======
      "image/png": "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",
>>>>>>> 40a58b41dab73f3860587adc83fb04066bbc4387
      "text/plain": [
       "<Figure size 1000x500 with 10 Axes>"
      ]
     },
     "metadata": {},
     "output_type": "display_data"
    }
   ],
   "source": [
    "plot_random_images(X_train,y_train).show()"
   ]
  },
  {
   "cell_type": "code",
   "execution_count": 27,
   "metadata": {},
   "outputs": [],
   "source": [
    "net = NeuralNetwork([784,128,128,10])\n"
   ]
  },
  {
   "cell_type": "code",
   "execution_count": 28,
   "metadata": {},
   "outputs": [
    {
     "data": {
      "text/plain": [
       "<tf.Tensor: shape=(60000,), dtype=float32, numpy=\n",
       "array([   0.    ,  919.3557, 2513.1963, ...,    0.    ,  454.1125,\n",
       "       2181.8123], dtype=float32)>"
      ]
     },
     "execution_count": 28,
     "metadata": {},
     "output_type": "execute_result"
    }
   ],
   "source": [
    "net.computeLoss2(net.feedforward(X_train), y_train)"
   ]
  },
  {
   "cell_type": "code",
   "execution_count": 29,
   "metadata": {},
   "outputs": [
    {
     "data": {
      "text/plain": [
       "<tf.Tensor: shape=(), dtype=float32, numpy=1148.3064>"
      ]
     },
     "execution_count": 29,
     "metadata": {},
     "output_type": "execute_result"
    }
   ],
   "source": [
    "net.computeLoss(net.feedforward(X_train), y_train)"
   ]
  },
  {
   "cell_type": "code",
   "execution_count": 34,
   "metadata": {},
   "outputs": [],
   "source": [
    "batch_size = 120\n",
    "epochs  = 7\n",
    "steps_per_epochs = int(X_train.shape[0]/batch_size)\n",
    "lr = 3e-3\n"
   ]
  },
  {
   "cell_type": "code",
   "execution_count": 35,
   "metadata": {},
   "outputs": [
    {
     "name": "stdout",
     "output_type": "stream",
     "text": [
<<<<<<< HEAD
      "Epoch 0-----------Train_acc:0.8037666666666666  . Val_acc:0.8043\n",
      "Epoch 1-----------Train_acc:0.83795  . Val_acc:0.8363\n",
      "Epoch 2-----------Train_acc:0.8544333333333334  . Val_acc:0.8507\n",
      "Epoch 3-----------Train_acc:0.8640833333333333  . Val_acc:0.8614\n",
      "Epoch 4-----------Train_acc:0.8702833333333333  . Val_acc:0.8672\n",
      "Epoch 5-----------Train_acc:0.8752  . Val_acc:0.8699\n",
      "Epoch 6-----------Train_acc:0.88035  . Val_acc:0.8755\n"
=======
      "Epoch 0-----------Train_acc:0.8087  . Val_acc:0.8143\n",
      "Epoch 1-----------Train_acc:0.8392333333333334  . Val_acc:0.842\n",
      "Epoch 2-----------Train_acc:0.8569  . Val_acc:0.8533\n",
      "Epoch 3-----------Train_acc:0.8654833333333334  . Val_acc:0.8606\n",
      "Epoch 4-----------Train_acc:0.8732166666666666  . Val_acc:0.8685\n",
      "Epoch 5-----------Train_acc:0.8795166666666666  . Val_acc:0.8741\n",
      "Epoch 6-----------Train_acc:0.8851  . Val_acc:0.8785\n"
>>>>>>> 40a58b41dab73f3860587adc83fb04066bbc4387
     ]
    }
   ],
   "source": [
    "history = net.train(X_train,y_train,X_test,y_test,epochs,steps_per_epochs,batch_size,lr)"
   ]
  },
  {
   "cell_type": "code",
   "execution_count": 36,
   "metadata": {},
   "outputs": [
    {
     "ename": "IndexError",
     "evalue": "index 43744 is out of bounds for axis 0 with size 10000",
     "output_type": "error",
     "traceback": [
      "\u001b[1;31m---------------------------------------------------------------------------\u001b[0m",
      "\u001b[1;31mIndexError\u001b[0m                                Traceback (most recent call last)",
      "\u001b[1;32me:\\deepLearning\\neuralNetwoking\\NNwithTensorflow\\NNwithTensor.ipynb Cell 17\u001b[0m line \u001b[0;36m2\n\u001b[0;32m      <a href='vscode-notebook-cell:/e%3A/deepLearning/neuralNetwoking/NNwithTensorflow/NNwithTensor.ipynb#X25sZmlsZQ%3D%3D?line=0'>1</a>\u001b[0m y_preds \u001b[39m=\u001b[39m net\u001b[39m.\u001b[39mpredict(X_test)\u001b[39m.\u001b[39mnumpy()\n\u001b[1;32m----> <a href='vscode-notebook-cell:/e%3A/deepLearning/neuralNetwoking/NNwithTensorflow/NNwithTensor.ipynb#X25sZmlsZQ%3D%3D?line=1'>2</a>\u001b[0m plot_random_images(X_train,y_train,y_preds)\u001b[39m.\u001b[39mshow()\n",
      "\u001b[1;32me:\\deepLearning\\neuralNetwoking\\NNwithTensorflow\\NNwithTensor.ipynb Cell 17\u001b[0m line \u001b[0;36m2\n\u001b[0;32m     <a href='vscode-notebook-cell:/e%3A/deepLearning/neuralNetwoking/NNwithTensorflow/NNwithTensor.ipynb#X25sZmlsZQ%3D%3D?line=20'>21</a>\u001b[0m plt\u001b[39m.\u001b[39mxticks([])\n\u001b[0;32m     <a href='vscode-notebook-cell:/e%3A/deepLearning/neuralNetwoking/NNwithTensorflow/NNwithTensor.ipynb#X25sZmlsZQ%3D%3D?line=21'>22</a>\u001b[0m plt\u001b[39m.\u001b[39myticks([])\n\u001b[1;32m---> <a href='vscode-notebook-cell:/e%3A/deepLearning/neuralNetwoking/NNwithTensorflow/NNwithTensor.ipynb#X25sZmlsZQ%3D%3D?line=22'>23</a>\u001b[0m \u001b[39mif\u001b[39;00m y[index] \u001b[39m==\u001b[39m p[index]:\n\u001b[0;32m     <a href='vscode-notebook-cell:/e%3A/deepLearning/neuralNetwoking/NNwithTensorflow/NNwithTensor.ipynb#X25sZmlsZQ%3D%3D?line=23'>24</a>\u001b[0m     col \u001b[39m=\u001b[39m \u001b[39m'\u001b[39m\u001b[39mg\u001b[39m\u001b[39m'\u001b[39m\n\u001b[0;32m     <a href='vscode-notebook-cell:/e%3A/deepLearning/neuralNetwoking/NNwithTensorflow/NNwithTensor.ipynb#X25sZmlsZQ%3D%3D?line=24'>25</a>\u001b[0m \u001b[39melse\u001b[39;00m:\n",
      "\u001b[1;31mIndexError\u001b[0m: index 43744 is out of bounds for axis 0 with size 10000"
     ]
    },
    {
     "data": {
      "image/png": "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",
      "text/plain": [
       "<Figure size 1000x500 with 1 Axes>"
      ]
     },
     "metadata": {},
     "output_type": "display_data"
    }
   ],
   "source": [
    "y_preds = net.predict(X_test).numpy()\n",
    "plot_random_images(X_train,y_train,y_preds).show()"
   ]
  }
 ],
 "metadata": {
  "kernelspec": {
   "display_name": "Python 3",
   "language": "python",
   "name": "python3"
  },
  "language_info": {
   "codemirror_mode": {
    "name": "ipython",
    "version": 3
   },
   "file_extension": ".py",
   "mimetype": "text/x-python",
   "name": "python",
   "nbconvert_exporter": "python",
   "pygments_lexer": "ipython3",
   "version": "3.11.6"
  }
 },
 "nbformat": 4,
 "nbformat_minor": 2
}
