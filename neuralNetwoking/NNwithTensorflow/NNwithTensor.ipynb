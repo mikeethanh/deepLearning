{
 "cells": [
  {
   "cell_type": "code",
   "execution_count": 2,
   "metadata": {},
   "outputs": [
    {
     "name": "stdout",
     "output_type": "stream",
     "text": [
      "WARNING:tensorflow:From C:\\Users\\maith\\AppData\\Local\\Packages\\PythonSoftwareFoundation.Python.3.11_qbz5n2kfra8p0\\LocalCache\\local-packages\\Python311\\site-packages\\keras\\src\\losses.py:2976: The name tf.losses.sparse_softmax_cross_entropy is deprecated. Please use tf.compat.v1.losses.sparse_softmax_cross_entropy instead.\n",
      "\n"
     ]
    }
   ],
   "source": [
    "import numpy as np \n",
    "import matplotlib.pyplot as plt \n",
    "import tensorflow as tf\n",
    "%matplotlib inline"
   ]
  },
  {
   "cell_type": "code",
   "execution_count": null,
   "metadata": {},
   "outputs": [],
   "source": [
    "class NeuralNetwork(object):\n",
    "    def __init__(self,layers):\n",
    "        self.layers = layers\n",
    "        self.numLayers = len(layers)-1\n",
    "        self.params = {}\n",
    "        self.grad = {}\n",
    "\n",
    "        for i in range(self.numLayers):\n",
    "            self.params['W'+str(i+1)] = tf.Variable(np.random.normal(shape=(self.layers[i],self.layers[i+1])))\n",
    "            self.params['b'+str(i+1)] = tf.Variable(np.random.normal(shape = (self.layers[i+1])))\n",
    "\n",
    "        \n",
    "    def feedforward(self,X):\n",
    "        A = tf.convert_to_tensor(X,dtype = np.float32)\n",
    "\n",
    "        for i in range(self.numLayers):\n",
    "            W = self.params['W'+str(i+1)]\n",
    "            b = self.params['b'+str(i+1)]\n",
    "\n",
    "            Z = tf.matmul(W,X) +b\n",
    "\n",
    "            if i != self.numLayers - 1 :\n",
    "                A = tf.nn.relu(Z)\n",
    "            else:\n",
    "                A = Z\n",
    "                "
   ]
  }
 ],
 "metadata": {
  "kernelspec": {
   "display_name": "Python 3",
   "language": "python",
   "name": "python3"
  },
  "language_info": {
   "codemirror_mode": {
    "name": "ipython",
    "version": 3
   },
   "file_extension": ".py",
   "mimetype": "text/x-python",
   "name": "python",
   "nbconvert_exporter": "python",
   "pygments_lexer": "ipython3",
   "version": "3.11.6"
  }
 },
 "nbformat": 4,
 "nbformat_minor": 2
}
